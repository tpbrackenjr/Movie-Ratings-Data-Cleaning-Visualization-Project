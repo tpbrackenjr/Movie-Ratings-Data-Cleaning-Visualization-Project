{
 "cells": [
  {
   "cell_type": "code",
   "execution_count": 1,
   "id": "da85eeb4-3345-4623-a9e4-385d9ce55909",
   "metadata": {},
   "outputs": [],
   "source": [
    "import pandas as pd\n",
    "\n",
    "df = pd.read_csv(r'\\Users\\tpbra\\Downloads\\movie_ratings_messy.csv')"
   ]
  },
  {
   "cell_type": "code",
   "execution_count": 2,
   "id": "a7c9916b-531f-440b-993b-af624f69fd5c",
   "metadata": {},
   "outputs": [
    {
     "data": {
      "text/html": [
       "<div>\n",
       "<style scoped>\n",
       "    .dataframe tbody tr th:only-of-type {\n",
       "        vertical-align: middle;\n",
       "    }\n",
       "\n",
       "    .dataframe tbody tr th {\n",
       "        vertical-align: top;\n",
       "    }\n",
       "\n",
       "    .dataframe thead th {\n",
       "        text-align: right;\n",
       "    }\n",
       "</style>\n",
       "<table border=\"1\" class=\"dataframe\">\n",
       "  <thead>\n",
       "    <tr style=\"text-align: right;\">\n",
       "      <th></th>\n",
       "      <th>Movie Title</th>\n",
       "      <th>Genre</th>\n",
       "      <th>Release Year</th>\n",
       "      <th>User Rating</th>\n",
       "      <th>Reviewer ID</th>\n",
       "      <th>Watched</th>\n",
       "    </tr>\n",
       "  </thead>\n",
       "  <tbody>\n",
       "    <tr>\n",
       "      <th>0</th>\n",
       "      <td>Star Wars</td>\n",
       "      <td>Sci-Fi</td>\n",
       "      <td>1977</td>\n",
       "      <td>5</td>\n",
       "      <td>1001</td>\n",
       "      <td>Yes</td>\n",
       "    </tr>\n",
       "    <tr>\n",
       "      <th>1</th>\n",
       "      <td>star wars</td>\n",
       "      <td>Sci-Fi</td>\n",
       "      <td>1977</td>\n",
       "      <td>6</td>\n",
       "      <td>1001</td>\n",
       "      <td>Y</td>\n",
       "    </tr>\n",
       "    <tr>\n",
       "      <th>2</th>\n",
       "      <td>Inception</td>\n",
       "      <td>Sci-Fi</td>\n",
       "      <td>2010</td>\n",
       "      <td>4</td>\n",
       "      <td>1002</td>\n",
       "      <td>No</td>\n",
       "    </tr>\n",
       "    <tr>\n",
       "      <th>3</th>\n",
       "      <td>Inception</td>\n",
       "      <td>Sci-Fi</td>\n",
       "      <td>2010</td>\n",
       "      <td>3</td>\n",
       "      <td>1003</td>\n",
       "      <td>N</td>\n",
       "    </tr>\n",
       "    <tr>\n",
       "      <th>4</th>\n",
       "      <td>The Matrix</td>\n",
       "      <td>Action</td>\n",
       "      <td>1999</td>\n",
       "      <td>5</td>\n",
       "      <td>1004</td>\n",
       "      <td>TRUE</td>\n",
       "    </tr>\n",
       "  </tbody>\n",
       "</table>\n",
       "</div>"
      ],
      "text/plain": [
       "  Movie Title   Genre  Release Year  User Rating  Reviewer ID Watched\n",
       "0   Star Wars  Sci-Fi          1977            5         1001     Yes\n",
       "1   star wars  Sci-Fi          1977            6         1001       Y\n",
       "2   Inception  Sci-Fi          2010            4         1002      No\n",
       "3   Inception  Sci-Fi          2010            3         1003       N\n",
       "4  The Matrix  Action          1999            5         1004    TRUE"
      ]
     },
     "execution_count": 2,
     "metadata": {},
     "output_type": "execute_result"
    }
   ],
   "source": [
    "df.head()"
   ]
  },
  {
   "cell_type": "code",
   "execution_count": 4,
   "id": "3ee6e12b-13f9-4155-a2d3-0c1cd97a0cec",
   "metadata": {},
   "outputs": [
    {
     "data": {
      "text/plain": [
       "Movie Title     0\n",
       "Genre           0\n",
       "Release Year    0\n",
       "User Rating     0\n",
       "Reviewer ID     0\n",
       "Watched         0\n",
       "dtype: int64"
      ]
     },
     "execution_count": 4,
     "metadata": {},
     "output_type": "execute_result"
    }
   ],
   "source": [
    "#checking for blanks\n",
    "df.isnull().sum()"
   ]
  },
  {
   "cell_type": "code",
   "execution_count": 5,
   "id": "f5edcec6-81b5-4b2e-8268-5657269f6d1d",
   "metadata": {},
   "outputs": [],
   "source": [
    "#making the colummn names lower case and add an _ to the column name\n",
    "df.columns = df.columns.str.strip().str.lower().str.replace(\" \", \"_\")"
   ]
  },
  {
   "cell_type": "code",
   "execution_count": 6,
   "id": "cff78dea-aab6-4f86-8227-c79b86d5060a",
   "metadata": {},
   "outputs": [
    {
     "data": {
      "text/html": [
       "<div>\n",
       "<style scoped>\n",
       "    .dataframe tbody tr th:only-of-type {\n",
       "        vertical-align: middle;\n",
       "    }\n",
       "\n",
       "    .dataframe tbody tr th {\n",
       "        vertical-align: top;\n",
       "    }\n",
       "\n",
       "    .dataframe thead th {\n",
       "        text-align: right;\n",
       "    }\n",
       "</style>\n",
       "<table border=\"1\" class=\"dataframe\">\n",
       "  <thead>\n",
       "    <tr style=\"text-align: right;\">\n",
       "      <th></th>\n",
       "      <th>movie_title</th>\n",
       "      <th>genre</th>\n",
       "      <th>release_year</th>\n",
       "      <th>user_rating</th>\n",
       "      <th>reviewer_id</th>\n",
       "      <th>watched</th>\n",
       "    </tr>\n",
       "  </thead>\n",
       "  <tbody>\n",
       "    <tr>\n",
       "      <th>0</th>\n",
       "      <td>Star Wars</td>\n",
       "      <td>Sci-Fi</td>\n",
       "      <td>1977</td>\n",
       "      <td>5</td>\n",
       "      <td>1001</td>\n",
       "      <td>Yes</td>\n",
       "    </tr>\n",
       "    <tr>\n",
       "      <th>1</th>\n",
       "      <td>star wars</td>\n",
       "      <td>Sci-Fi</td>\n",
       "      <td>1977</td>\n",
       "      <td>6</td>\n",
       "      <td>1001</td>\n",
       "      <td>Y</td>\n",
       "    </tr>\n",
       "    <tr>\n",
       "      <th>2</th>\n",
       "      <td>Inception</td>\n",
       "      <td>Sci-Fi</td>\n",
       "      <td>2010</td>\n",
       "      <td>4</td>\n",
       "      <td>1002</td>\n",
       "      <td>No</td>\n",
       "    </tr>\n",
       "    <tr>\n",
       "      <th>3</th>\n",
       "      <td>Inception</td>\n",
       "      <td>Sci-Fi</td>\n",
       "      <td>2010</td>\n",
       "      <td>3</td>\n",
       "      <td>1003</td>\n",
       "      <td>N</td>\n",
       "    </tr>\n",
       "    <tr>\n",
       "      <th>4</th>\n",
       "      <td>The Matrix</td>\n",
       "      <td>Action</td>\n",
       "      <td>1999</td>\n",
       "      <td>5</td>\n",
       "      <td>1004</td>\n",
       "      <td>TRUE</td>\n",
       "    </tr>\n",
       "  </tbody>\n",
       "</table>\n",
       "</div>"
      ],
      "text/plain": [
       "  movie_title   genre  release_year  user_rating  reviewer_id watched\n",
       "0   Star Wars  Sci-Fi          1977            5         1001     Yes\n",
       "1   star wars  Sci-Fi          1977            6         1001       Y\n",
       "2   Inception  Sci-Fi          2010            4         1002      No\n",
       "3   Inception  Sci-Fi          2010            3         1003       N\n",
       "4  The Matrix  Action          1999            5         1004    TRUE"
      ]
     },
     "execution_count": 6,
     "metadata": {},
     "output_type": "execute_result"
    }
   ],
   "source": [
    "#checking for lowercase and _\n",
    "df.head()"
   ]
  },
  {
   "cell_type": "code",
   "execution_count": 7,
   "id": "5080ef04-434d-4e41-9a74-dadc9bd4c062",
   "metadata": {},
   "outputs": [],
   "source": [
    "# Making all the data in the df first letter capitolized\n",
    "df['movie_title'] = df['movie_title'].str.title()"
   ]
  },
  {
   "cell_type": "code",
   "execution_count": 8,
   "id": "0f4b110b-06e3-4529-b624-6cecdd8ea2e0",
   "metadata": {},
   "outputs": [
    {
     "data": {
      "text/html": [
       "<div>\n",
       "<style scoped>\n",
       "    .dataframe tbody tr th:only-of-type {\n",
       "        vertical-align: middle;\n",
       "    }\n",
       "\n",
       "    .dataframe tbody tr th {\n",
       "        vertical-align: top;\n",
       "    }\n",
       "\n",
       "    .dataframe thead th {\n",
       "        text-align: right;\n",
       "    }\n",
       "</style>\n",
       "<table border=\"1\" class=\"dataframe\">\n",
       "  <thead>\n",
       "    <tr style=\"text-align: right;\">\n",
       "      <th></th>\n",
       "      <th>movie_title</th>\n",
       "      <th>genre</th>\n",
       "      <th>release_year</th>\n",
       "      <th>user_rating</th>\n",
       "      <th>reviewer_id</th>\n",
       "      <th>watched</th>\n",
       "    </tr>\n",
       "  </thead>\n",
       "  <tbody>\n",
       "    <tr>\n",
       "      <th>0</th>\n",
       "      <td>Star Wars</td>\n",
       "      <td>Sci-Fi</td>\n",
       "      <td>1977</td>\n",
       "      <td>5</td>\n",
       "      <td>1001</td>\n",
       "      <td>Yes</td>\n",
       "    </tr>\n",
       "    <tr>\n",
       "      <th>1</th>\n",
       "      <td>Star Wars</td>\n",
       "      <td>Sci-Fi</td>\n",
       "      <td>1977</td>\n",
       "      <td>6</td>\n",
       "      <td>1001</td>\n",
       "      <td>Y</td>\n",
       "    </tr>\n",
       "    <tr>\n",
       "      <th>2</th>\n",
       "      <td>Inception</td>\n",
       "      <td>Sci-Fi</td>\n",
       "      <td>2010</td>\n",
       "      <td>4</td>\n",
       "      <td>1002</td>\n",
       "      <td>No</td>\n",
       "    </tr>\n",
       "    <tr>\n",
       "      <th>3</th>\n",
       "      <td>Inception</td>\n",
       "      <td>Sci-Fi</td>\n",
       "      <td>2010</td>\n",
       "      <td>3</td>\n",
       "      <td>1003</td>\n",
       "      <td>N</td>\n",
       "    </tr>\n",
       "    <tr>\n",
       "      <th>4</th>\n",
       "      <td>The Matrix</td>\n",
       "      <td>Action</td>\n",
       "      <td>1999</td>\n",
       "      <td>5</td>\n",
       "      <td>1004</td>\n",
       "      <td>TRUE</td>\n",
       "    </tr>\n",
       "  </tbody>\n",
       "</table>\n",
       "</div>"
      ],
      "text/plain": [
       "  movie_title   genre  release_year  user_rating  reviewer_id watched\n",
       "0   Star Wars  Sci-Fi          1977            5         1001     Yes\n",
       "1   Star Wars  Sci-Fi          1977            6         1001       Y\n",
       "2   Inception  Sci-Fi          2010            4         1002      No\n",
       "3   Inception  Sci-Fi          2010            3         1003       N\n",
       "4  The Matrix  Action          1999            5         1004    TRUE"
      ]
     },
     "execution_count": 8,
     "metadata": {},
     "output_type": "execute_result"
    }
   ],
   "source": [
    "# Check to see, if the command worked\n",
    "df.head()"
   ]
  },
  {
   "cell_type": "code",
   "execution_count": 9,
   "id": "a166e69b-7bd8-4fa1-9190-e1f2b855c9e3",
   "metadata": {},
   "outputs": [],
   "source": [
    "# Creating a movie_id to chack for duplicates\n",
    "df['movie_id'] = df['movie_title'] + '_' + df['reviewer_id'].astype(str)"
   ]
  },
  {
   "cell_type": "code",
   "execution_count": 10,
   "id": "ccc81623-3557-4830-86f1-38d41d3de10e",
   "metadata": {},
   "outputs": [
    {
     "name": "stdout",
     "output_type": "stream",
     "text": [
      "Total reviews: 10\n",
      "Unique reviews: 8\n",
      "Duplicates found: 4\n"
     ]
    }
   ],
   "source": [
    "# Checking for duplicates\n",
    "duplicates = df[df.duplicated('movie_id', keep=False)]\n",
    "\n",
    "print(f\"Total reviews: {len(df)}\")\n",
    "print(f\"Unique reviews: {df['movie_id'].nunique()}\")\n",
    "print(f\"Duplicates found: {len(duplicates)}\")"
   ]
  },
  {
   "cell_type": "code",
   "execution_count": 11,
   "id": "b31ada29-ebda-4592-941f-cb167b1d9740",
   "metadata": {},
   "outputs": [
    {
     "name": "stdout",
     "output_type": "stream",
     "text": [
      "movie_id\n",
      "Star Wars_1001       2\n",
      "Pulp Fiction_1007    2\n",
      "Name: count, dtype: int64\n"
     ]
    }
   ],
   "source": [
    "# Show the duplicate game_id(s)\n",
    "dupe_ids = df[df.duplicated('movie_id', keep=False)]['movie_id'].value_counts()\n",
    "print(dupe_ids)"
   ]
  },
  {
   "cell_type": "code",
   "execution_count": 12,
   "id": "6de0d7e1-ade6-496e-ad87-9acb0d6152ab",
   "metadata": {},
   "outputs": [
    {
     "data": {
      "text/html": [
       "<div>\n",
       "<style scoped>\n",
       "    .dataframe tbody tr th:only-of-type {\n",
       "        vertical-align: middle;\n",
       "    }\n",
       "\n",
       "    .dataframe tbody tr th {\n",
       "        vertical-align: top;\n",
       "    }\n",
       "\n",
       "    .dataframe thead th {\n",
       "        text-align: right;\n",
       "    }\n",
       "</style>\n",
       "<table border=\"1\" class=\"dataframe\">\n",
       "  <thead>\n",
       "    <tr style=\"text-align: right;\">\n",
       "      <th></th>\n",
       "      <th>movie_title</th>\n",
       "      <th>genre</th>\n",
       "      <th>release_year</th>\n",
       "      <th>user_rating</th>\n",
       "      <th>reviewer_id</th>\n",
       "      <th>watched</th>\n",
       "      <th>movie_id</th>\n",
       "    </tr>\n",
       "  </thead>\n",
       "  <tbody>\n",
       "    <tr>\n",
       "      <th>0</th>\n",
       "      <td>Star Wars</td>\n",
       "      <td>Sci-Fi</td>\n",
       "      <td>1977</td>\n",
       "      <td>5</td>\n",
       "      <td>1001</td>\n",
       "      <td>Yes</td>\n",
       "      <td>Star Wars_1001</td>\n",
       "    </tr>\n",
       "    <tr>\n",
       "      <th>1</th>\n",
       "      <td>Star Wars</td>\n",
       "      <td>Sci-Fi</td>\n",
       "      <td>1977</td>\n",
       "      <td>6</td>\n",
       "      <td>1001</td>\n",
       "      <td>Y</td>\n",
       "      <td>Star Wars_1001</td>\n",
       "    </tr>\n",
       "  </tbody>\n",
       "</table>\n",
       "</div>"
      ],
      "text/plain": [
       "  movie_title   genre  release_year  user_rating  reviewer_id watched  \\\n",
       "0   Star Wars  Sci-Fi          1977            5         1001     Yes   \n",
       "1   Star Wars  Sci-Fi          1977            6         1001       Y   \n",
       "\n",
       "         movie_id  \n",
       "0  Star Wars_1001  \n",
       "1  Star Wars_1001  "
      ]
     },
     "execution_count": 12,
     "metadata": {},
     "output_type": "execute_result"
    }
   ],
   "source": [
    "# View the rows with the duplicated movie_id\n",
    "duplicate_movie_id = dupe_ids.index[0]  # assuming only one duplicate\n",
    "df[df['movie_id'] == duplicate_movie_id]"
   ]
  },
  {
   "cell_type": "code",
   "execution_count": 14,
   "id": "d7c8ca85-18b2-432d-bb09-8dd83ba16dff",
   "metadata": {},
   "outputs": [
    {
     "data": {
      "text/plain": [
       "movie_id\n",
       "Star Wars_1001       2\n",
       "Pulp Fiction_1007    2\n",
       "Name: count, dtype: int64"
      ]
     },
     "execution_count": 14,
     "metadata": {},
     "output_type": "execute_result"
    }
   ],
   "source": [
    "# View the rows with the duplicated movie_id\n",
    "duplicate_movie_id = df[df['movie_id'].duplicated(keep=False)]\n",
    "# Show all rows with duplicate movie_ids\n",
    "dupe_ids"
   ]
  },
  {
   "cell_type": "code",
   "execution_count": 16,
   "id": "6b658798-9618-4775-be72-dab149af8624",
   "metadata": {},
   "outputs": [
    {
     "data": {
      "text/html": [
       "<div>\n",
       "<style scoped>\n",
       "    .dataframe tbody tr th:only-of-type {\n",
       "        vertical-align: middle;\n",
       "    }\n",
       "\n",
       "    .dataframe tbody tr th {\n",
       "        vertical-align: top;\n",
       "    }\n",
       "\n",
       "    .dataframe thead th {\n",
       "        text-align: right;\n",
       "    }\n",
       "</style>\n",
       "<table border=\"1\" class=\"dataframe\">\n",
       "  <thead>\n",
       "    <tr style=\"text-align: right;\">\n",
       "      <th></th>\n",
       "      <th>index</th>\n",
       "      <th>movie_title</th>\n",
       "      <th>genre</th>\n",
       "      <th>release_year</th>\n",
       "      <th>user_rating</th>\n",
       "      <th>reviewer_id</th>\n",
       "      <th>watched</th>\n",
       "      <th>movie_id</th>\n",
       "    </tr>\n",
       "  </thead>\n",
       "  <tbody>\n",
       "    <tr>\n",
       "      <th>0</th>\n",
       "      <td>0</td>\n",
       "      <td>Star Wars</td>\n",
       "      <td>Sci-Fi</td>\n",
       "      <td>1977</td>\n",
       "      <td>5</td>\n",
       "      <td>1001</td>\n",
       "      <td>Yes</td>\n",
       "      <td>Star Wars_1001</td>\n",
       "    </tr>\n",
       "    <tr>\n",
       "      <th>1</th>\n",
       "      <td>1</td>\n",
       "      <td>Star Wars</td>\n",
       "      <td>Sci-Fi</td>\n",
       "      <td>1977</td>\n",
       "      <td>6</td>\n",
       "      <td>1001</td>\n",
       "      <td>Y</td>\n",
       "      <td>Star Wars_1001</td>\n",
       "    </tr>\n",
       "    <tr>\n",
       "      <th>2</th>\n",
       "      <td>7</td>\n",
       "      <td>Pulp Fiction</td>\n",
       "      <td>Crime</td>\n",
       "      <td>1994</td>\n",
       "      <td>4</td>\n",
       "      <td>1007</td>\n",
       "      <td>No</td>\n",
       "      <td>Pulp Fiction_1007</td>\n",
       "    </tr>\n",
       "    <tr>\n",
       "      <th>3</th>\n",
       "      <td>8</td>\n",
       "      <td>Pulp Fiction</td>\n",
       "      <td>Crime</td>\n",
       "      <td>1994</td>\n",
       "      <td>4</td>\n",
       "      <td>1007</td>\n",
       "      <td>N</td>\n",
       "      <td>Pulp Fiction_1007</td>\n",
       "    </tr>\n",
       "  </tbody>\n",
       "</table>\n",
       "</div>"
      ],
      "text/plain": [
       "   index   movie_title   genre  release_year  user_rating  reviewer_id  \\\n",
       "0      0     Star Wars  Sci-Fi          1977            5         1001   \n",
       "1      1     Star Wars  Sci-Fi          1977            6         1001   \n",
       "2      7  Pulp Fiction   Crime          1994            4         1007   \n",
       "3      8  Pulp Fiction   Crime          1994            4         1007   \n",
       "\n",
       "  watched           movie_id  \n",
       "0     Yes     Star Wars_1001  \n",
       "1       Y     Star Wars_1001  \n",
       "2      No  Pulp Fiction_1007  \n",
       "3       N  Pulp Fiction_1007  "
      ]
     },
     "execution_count": 16,
     "metadata": {},
     "output_type": "execute_result"
    }
   ],
   "source": [
    "# Find all duplicates of movie_id\n",
    "dupe_rows = df[df['movie_id'].duplicated(keep=False)]\n",
    "\n",
    "# Show duplicate rows with their index positions\n",
    "dupe_rows.reset_index()"
   ]
  },
  {
   "cell_type": "code",
   "execution_count": 20,
   "id": "3e0e7f8b-d031-44d5-896f-b8a52e73644f",
   "metadata": {},
   "outputs": [],
   "source": [
    "# I cleaned the duplicates from the data and I am reloading the data set again\n",
    "import pandas as pd\n",
    "\n",
    "df = pd.read_csv(r'\\Users\\tpbra\\Downloads\\movie_ratings_messy.csv')"
   ]
  },
  {
   "cell_type": "code",
   "execution_count": 21,
   "id": "3e3757cc-ae89-44e1-9d85-0a944a393166",
   "metadata": {},
   "outputs": [
    {
     "data": {
      "text/html": [
       "<div>\n",
       "<style scoped>\n",
       "    .dataframe tbody tr th:only-of-type {\n",
       "        vertical-align: middle;\n",
       "    }\n",
       "\n",
       "    .dataframe tbody tr th {\n",
       "        vertical-align: top;\n",
       "    }\n",
       "\n",
       "    .dataframe thead th {\n",
       "        text-align: right;\n",
       "    }\n",
       "</style>\n",
       "<table border=\"1\" class=\"dataframe\">\n",
       "  <thead>\n",
       "    <tr style=\"text-align: right;\">\n",
       "      <th></th>\n",
       "      <th>Movie Title</th>\n",
       "      <th>Genre</th>\n",
       "      <th>Release Year</th>\n",
       "      <th>User Rating</th>\n",
       "      <th>Reviewer ID</th>\n",
       "      <th>Watched</th>\n",
       "    </tr>\n",
       "  </thead>\n",
       "  <tbody>\n",
       "    <tr>\n",
       "      <th>0</th>\n",
       "      <td>star wars</td>\n",
       "      <td>Sci-Fi</td>\n",
       "      <td>1977</td>\n",
       "      <td>6</td>\n",
       "      <td>1001</td>\n",
       "      <td>Y</td>\n",
       "    </tr>\n",
       "    <tr>\n",
       "      <th>1</th>\n",
       "      <td>Inception</td>\n",
       "      <td>Sci-Fi</td>\n",
       "      <td>2010</td>\n",
       "      <td>4</td>\n",
       "      <td>1002</td>\n",
       "      <td>No</td>\n",
       "    </tr>\n",
       "    <tr>\n",
       "      <th>2</th>\n",
       "      <td>Inception</td>\n",
       "      <td>Sci-Fi</td>\n",
       "      <td>2010</td>\n",
       "      <td>3</td>\n",
       "      <td>1003</td>\n",
       "      <td>N</td>\n",
       "    </tr>\n",
       "    <tr>\n",
       "      <th>3</th>\n",
       "      <td>The Matrix</td>\n",
       "      <td>Action</td>\n",
       "      <td>1999</td>\n",
       "      <td>5</td>\n",
       "      <td>1004</td>\n",
       "      <td>TRUE</td>\n",
       "    </tr>\n",
       "    <tr>\n",
       "      <th>4</th>\n",
       "      <td>The Godfather</td>\n",
       "      <td>Crime</td>\n",
       "      <td>1972</td>\n",
       "      <td>5</td>\n",
       "      <td>1005</td>\n",
       "      <td>FALSE</td>\n",
       "    </tr>\n",
       "  </tbody>\n",
       "</table>\n",
       "</div>"
      ],
      "text/plain": [
       "     Movie Title   Genre  Release Year  User Rating  Reviewer ID Watched\n",
       "0      star wars  Sci-Fi          1977            6         1001       Y\n",
       "1      Inception  Sci-Fi          2010            4         1002      No\n",
       "2      Inception  Sci-Fi          2010            3         1003       N\n",
       "3     The Matrix  Action          1999            5         1004    TRUE\n",
       "4  The Godfather   Crime          1972            5         1005   FALSE"
      ]
     },
     "execution_count": 21,
     "metadata": {},
     "output_type": "execute_result"
    }
   ],
   "source": [
    "df.head()"
   ]
  },
  {
   "cell_type": "code",
   "execution_count": 22,
   "id": "c72016a0-0a3b-4694-8505-106f27d32d95",
   "metadata": {},
   "outputs": [
    {
     "data": {
      "text/html": [
       "<div>\n",
       "<style scoped>\n",
       "    .dataframe tbody tr th:only-of-type {\n",
       "        vertical-align: middle;\n",
       "    }\n",
       "\n",
       "    .dataframe tbody tr th {\n",
       "        vertical-align: top;\n",
       "    }\n",
       "\n",
       "    .dataframe thead th {\n",
       "        text-align: right;\n",
       "    }\n",
       "</style>\n",
       "<table border=\"1\" class=\"dataframe\">\n",
       "  <thead>\n",
       "    <tr style=\"text-align: right;\">\n",
       "      <th></th>\n",
       "      <th>Movie Title</th>\n",
       "      <th>Genre</th>\n",
       "      <th>Release Year</th>\n",
       "      <th>User Rating</th>\n",
       "      <th>Reviewer ID</th>\n",
       "      <th>Watched</th>\n",
       "    </tr>\n",
       "  </thead>\n",
       "  <tbody>\n",
       "    <tr>\n",
       "      <th>3</th>\n",
       "      <td>The Matrix</td>\n",
       "      <td>Action</td>\n",
       "      <td>1999</td>\n",
       "      <td>5</td>\n",
       "      <td>1004</td>\n",
       "      <td>TRUE</td>\n",
       "    </tr>\n",
       "    <tr>\n",
       "      <th>4</th>\n",
       "      <td>The Godfather</td>\n",
       "      <td>Crime</td>\n",
       "      <td>1972</td>\n",
       "      <td>5</td>\n",
       "      <td>1005</td>\n",
       "      <td>FALSE</td>\n",
       "    </tr>\n",
       "    <tr>\n",
       "      <th>5</th>\n",
       "      <td>Avengers</td>\n",
       "      <td>Action</td>\n",
       "      <td>2012</td>\n",
       "      <td>0</td>\n",
       "      <td>1006</td>\n",
       "      <td>Yes</td>\n",
       "    </tr>\n",
       "    <tr>\n",
       "      <th>6</th>\n",
       "      <td>Pulp Fiction</td>\n",
       "      <td>Crime</td>\n",
       "      <td>1994</td>\n",
       "      <td>4</td>\n",
       "      <td>1007</td>\n",
       "      <td>No</td>\n",
       "    </tr>\n",
       "    <tr>\n",
       "      <th>7</th>\n",
       "      <td>Avatar</td>\n",
       "      <td>Sci-Fi</td>\n",
       "      <td>2009</td>\n",
       "      <td>5</td>\n",
       "      <td>1008</td>\n",
       "      <td>yes</td>\n",
       "    </tr>\n",
       "  </tbody>\n",
       "</table>\n",
       "</div>"
      ],
      "text/plain": [
       "     Movie Title   Genre  Release Year  User Rating  Reviewer ID Watched\n",
       "3     The Matrix  Action          1999            5         1004    TRUE\n",
       "4  The Godfather   Crime          1972            5         1005   FALSE\n",
       "5       Avengers  Action          2012            0         1006     Yes\n",
       "6   Pulp Fiction   Crime          1994            4         1007      No\n",
       "7         Avatar  Sci-Fi          2009            5         1008     yes"
      ]
     },
     "execution_count": 22,
     "metadata": {},
     "output_type": "execute_result"
    }
   ],
   "source": [
    "df.tail()"
   ]
  },
  {
   "cell_type": "code",
   "execution_count": 24,
   "id": "aacec125-62ce-456e-a0ec-965764fb5b8b",
   "metadata": {},
   "outputs": [],
   "source": [
    "#making the colummn names lower case and add an _ to the column name\n",
    "df.columns = df.columns.str.strip().str.lower().str.replace(\" \", \"_\")"
   ]
  },
  {
   "cell_type": "code",
   "execution_count": 25,
   "id": "c2f9bac1-942e-4f8c-96c8-dc4e61f0ae14",
   "metadata": {},
   "outputs": [
    {
     "data": {
      "text/html": [
       "<div>\n",
       "<style scoped>\n",
       "    .dataframe tbody tr th:only-of-type {\n",
       "        vertical-align: middle;\n",
       "    }\n",
       "\n",
       "    .dataframe tbody tr th {\n",
       "        vertical-align: top;\n",
       "    }\n",
       "\n",
       "    .dataframe thead th {\n",
       "        text-align: right;\n",
       "    }\n",
       "</style>\n",
       "<table border=\"1\" class=\"dataframe\">\n",
       "  <thead>\n",
       "    <tr style=\"text-align: right;\">\n",
       "      <th></th>\n",
       "      <th>movie_title</th>\n",
       "      <th>genre</th>\n",
       "      <th>release_year</th>\n",
       "      <th>user_rating</th>\n",
       "      <th>reviewer_id</th>\n",
       "      <th>watched</th>\n",
       "    </tr>\n",
       "  </thead>\n",
       "  <tbody>\n",
       "    <tr>\n",
       "      <th>0</th>\n",
       "      <td>star wars</td>\n",
       "      <td>Sci-Fi</td>\n",
       "      <td>1977</td>\n",
       "      <td>6</td>\n",
       "      <td>1001</td>\n",
       "      <td>Y</td>\n",
       "    </tr>\n",
       "    <tr>\n",
       "      <th>1</th>\n",
       "      <td>Inception</td>\n",
       "      <td>Sci-Fi</td>\n",
       "      <td>2010</td>\n",
       "      <td>4</td>\n",
       "      <td>1002</td>\n",
       "      <td>No</td>\n",
       "    </tr>\n",
       "    <tr>\n",
       "      <th>2</th>\n",
       "      <td>Inception</td>\n",
       "      <td>Sci-Fi</td>\n",
       "      <td>2010</td>\n",
       "      <td>3</td>\n",
       "      <td>1003</td>\n",
       "      <td>N</td>\n",
       "    </tr>\n",
       "    <tr>\n",
       "      <th>3</th>\n",
       "      <td>The Matrix</td>\n",
       "      <td>Action</td>\n",
       "      <td>1999</td>\n",
       "      <td>5</td>\n",
       "      <td>1004</td>\n",
       "      <td>TRUE</td>\n",
       "    </tr>\n",
       "    <tr>\n",
       "      <th>4</th>\n",
       "      <td>The Godfather</td>\n",
       "      <td>Crime</td>\n",
       "      <td>1972</td>\n",
       "      <td>5</td>\n",
       "      <td>1005</td>\n",
       "      <td>FALSE</td>\n",
       "    </tr>\n",
       "  </tbody>\n",
       "</table>\n",
       "</div>"
      ],
      "text/plain": [
       "     movie_title   genre  release_year  user_rating  reviewer_id watched\n",
       "0      star wars  Sci-Fi          1977            6         1001       Y\n",
       "1      Inception  Sci-Fi          2010            4         1002      No\n",
       "2      Inception  Sci-Fi          2010            3         1003       N\n",
       "3     The Matrix  Action          1999            5         1004    TRUE\n",
       "4  The Godfather   Crime          1972            5         1005   FALSE"
      ]
     },
     "execution_count": 25,
     "metadata": {},
     "output_type": "execute_result"
    }
   ],
   "source": [
    "# Check to see, if the command worked\n",
    "df.head()"
   ]
  },
  {
   "cell_type": "code",
   "execution_count": 26,
   "id": "2cc1d9c6-1bcf-4bd6-bed0-e9e1e90aa42e",
   "metadata": {},
   "outputs": [],
   "source": [
    "# Making all the data in the df first letter capitolized\n",
    "df['movie_title'] = df['movie_title'].str.title()"
   ]
  },
  {
   "cell_type": "code",
   "execution_count": 27,
   "id": "d44c8d85-f60d-4c57-907b-0df67f3270f9",
   "metadata": {},
   "outputs": [
    {
     "data": {
      "text/html": [
       "<div>\n",
       "<style scoped>\n",
       "    .dataframe tbody tr th:only-of-type {\n",
       "        vertical-align: middle;\n",
       "    }\n",
       "\n",
       "    .dataframe tbody tr th {\n",
       "        vertical-align: top;\n",
       "    }\n",
       "\n",
       "    .dataframe thead th {\n",
       "        text-align: right;\n",
       "    }\n",
       "</style>\n",
       "<table border=\"1\" class=\"dataframe\">\n",
       "  <thead>\n",
       "    <tr style=\"text-align: right;\">\n",
       "      <th></th>\n",
       "      <th>movie_title</th>\n",
       "      <th>genre</th>\n",
       "      <th>release_year</th>\n",
       "      <th>user_rating</th>\n",
       "      <th>reviewer_id</th>\n",
       "      <th>watched</th>\n",
       "    </tr>\n",
       "  </thead>\n",
       "  <tbody>\n",
       "    <tr>\n",
       "      <th>0</th>\n",
       "      <td>Star Wars</td>\n",
       "      <td>Sci-Fi</td>\n",
       "      <td>1977</td>\n",
       "      <td>6</td>\n",
       "      <td>1001</td>\n",
       "      <td>Y</td>\n",
       "    </tr>\n",
       "    <tr>\n",
       "      <th>1</th>\n",
       "      <td>Inception</td>\n",
       "      <td>Sci-Fi</td>\n",
       "      <td>2010</td>\n",
       "      <td>4</td>\n",
       "      <td>1002</td>\n",
       "      <td>No</td>\n",
       "    </tr>\n",
       "    <tr>\n",
       "      <th>2</th>\n",
       "      <td>Inception</td>\n",
       "      <td>Sci-Fi</td>\n",
       "      <td>2010</td>\n",
       "      <td>3</td>\n",
       "      <td>1003</td>\n",
       "      <td>N</td>\n",
       "    </tr>\n",
       "    <tr>\n",
       "      <th>3</th>\n",
       "      <td>The Matrix</td>\n",
       "      <td>Action</td>\n",
       "      <td>1999</td>\n",
       "      <td>5</td>\n",
       "      <td>1004</td>\n",
       "      <td>TRUE</td>\n",
       "    </tr>\n",
       "    <tr>\n",
       "      <th>4</th>\n",
       "      <td>The Godfather</td>\n",
       "      <td>Crime</td>\n",
       "      <td>1972</td>\n",
       "      <td>5</td>\n",
       "      <td>1005</td>\n",
       "      <td>FALSE</td>\n",
       "    </tr>\n",
       "  </tbody>\n",
       "</table>\n",
       "</div>"
      ],
      "text/plain": [
       "     movie_title   genre  release_year  user_rating  reviewer_id watched\n",
       "0      Star Wars  Sci-Fi          1977            6         1001       Y\n",
       "1      Inception  Sci-Fi          2010            4         1002      No\n",
       "2      Inception  Sci-Fi          2010            3         1003       N\n",
       "3     The Matrix  Action          1999            5         1004    TRUE\n",
       "4  The Godfather   Crime          1972            5         1005   FALSE"
      ]
     },
     "execution_count": 27,
     "metadata": {},
     "output_type": "execute_result"
    }
   ],
   "source": [
    "# Check to see, if the command worked\n",
    "df.head()"
   ]
  },
  {
   "cell_type": "code",
   "execution_count": 28,
   "id": "b09a66f8-9c32-40dc-890f-acb05edc8b23",
   "metadata": {},
   "outputs": [],
   "source": [
    "# Recreating a movie_id to chack for duplicates\n",
    "df['movie_id'] = df['movie_title'] + '_' + df['reviewer_id'].astype(str)"
   ]
  },
  {
   "cell_type": "code",
   "execution_count": 29,
   "id": "688c6d58-05b7-45ff-8cb9-e66e14208b4c",
   "metadata": {},
   "outputs": [
    {
     "name": "stdout",
     "output_type": "stream",
     "text": [
      "Total reviews: 8\n",
      "Unique reviews: 8\n",
      "Duplicates found: 0\n"
     ]
    }
   ],
   "source": [
    "# Rechecking for duplicates\n",
    "duplicates = df[df.duplicated('movie_id', keep=False)]\n",
    "\n",
    "print(f\"Total reviews: {len(df)}\")\n",
    "print(f\"Unique reviews: {df['movie_id'].nunique()}\")\n",
    "print(f\"Duplicates found: {len(duplicates)}\")"
   ]
  },
  {
   "cell_type": "code",
   "execution_count": 31,
   "id": "a2a3f06e-ca5e-4e5e-b993-3092d06b908f",
   "metadata": {},
   "outputs": [],
   "source": [
    "# Stripping leading spaces and standardizing capitolazion for the watched column\n",
    "df['watched'] = df['watched'].str.strip().str.lower()"
   ]
  },
  {
   "cell_type": "code",
   "execution_count": 32,
   "id": "3bf70b43-3662-49d1-8cab-d88ab5e6bd83",
   "metadata": {},
   "outputs": [
    {
     "data": {
      "text/html": [
       "<div>\n",
       "<style scoped>\n",
       "    .dataframe tbody tr th:only-of-type {\n",
       "        vertical-align: middle;\n",
       "    }\n",
       "\n",
       "    .dataframe tbody tr th {\n",
       "        vertical-align: top;\n",
       "    }\n",
       "\n",
       "    .dataframe thead th {\n",
       "        text-align: right;\n",
       "    }\n",
       "</style>\n",
       "<table border=\"1\" class=\"dataframe\">\n",
       "  <thead>\n",
       "    <tr style=\"text-align: right;\">\n",
       "      <th></th>\n",
       "      <th>movie_title</th>\n",
       "      <th>genre</th>\n",
       "      <th>release_year</th>\n",
       "      <th>user_rating</th>\n",
       "      <th>reviewer_id</th>\n",
       "      <th>watched</th>\n",
       "      <th>movie_id</th>\n",
       "    </tr>\n",
       "  </thead>\n",
       "  <tbody>\n",
       "    <tr>\n",
       "      <th>0</th>\n",
       "      <td>Star Wars</td>\n",
       "      <td>Sci-Fi</td>\n",
       "      <td>1977</td>\n",
       "      <td>6</td>\n",
       "      <td>1001</td>\n",
       "      <td>y</td>\n",
       "      <td>Star Wars_1001</td>\n",
       "    </tr>\n",
       "    <tr>\n",
       "      <th>1</th>\n",
       "      <td>Inception</td>\n",
       "      <td>Sci-Fi</td>\n",
       "      <td>2010</td>\n",
       "      <td>4</td>\n",
       "      <td>1002</td>\n",
       "      <td>no</td>\n",
       "      <td>Inception_1002</td>\n",
       "    </tr>\n",
       "    <tr>\n",
       "      <th>2</th>\n",
       "      <td>Inception</td>\n",
       "      <td>Sci-Fi</td>\n",
       "      <td>2010</td>\n",
       "      <td>3</td>\n",
       "      <td>1003</td>\n",
       "      <td>n</td>\n",
       "      <td>Inception_1003</td>\n",
       "    </tr>\n",
       "    <tr>\n",
       "      <th>3</th>\n",
       "      <td>The Matrix</td>\n",
       "      <td>Action</td>\n",
       "      <td>1999</td>\n",
       "      <td>5</td>\n",
       "      <td>1004</td>\n",
       "      <td>true</td>\n",
       "      <td>The Matrix_1004</td>\n",
       "    </tr>\n",
       "    <tr>\n",
       "      <th>4</th>\n",
       "      <td>The Godfather</td>\n",
       "      <td>Crime</td>\n",
       "      <td>1972</td>\n",
       "      <td>5</td>\n",
       "      <td>1005</td>\n",
       "      <td>false</td>\n",
       "      <td>The Godfather_1005</td>\n",
       "    </tr>\n",
       "  </tbody>\n",
       "</table>\n",
       "</div>"
      ],
      "text/plain": [
       "     movie_title   genre  release_year  user_rating  reviewer_id watched  \\\n",
       "0      Star Wars  Sci-Fi          1977            6         1001       y   \n",
       "1      Inception  Sci-Fi          2010            4         1002      no   \n",
       "2      Inception  Sci-Fi          2010            3         1003       n   \n",
       "3     The Matrix  Action          1999            5         1004    true   \n",
       "4  The Godfather   Crime          1972            5         1005   false   \n",
       "\n",
       "             movie_id  \n",
       "0      Star Wars_1001  \n",
       "1      Inception_1002  \n",
       "2      Inception_1003  \n",
       "3     The Matrix_1004  \n",
       "4  The Godfather_1005  "
      ]
     },
     "execution_count": 32,
     "metadata": {},
     "output_type": "execute_result"
    }
   ],
   "source": [
    "#  Checking the command for Stripping leading spaces and standardizing capitolazion for the watched column wirked\n",
    "df.head()"
   ]
  },
  {
   "cell_type": "code",
   "execution_count": 33,
   "id": "f106e8a2-b1ed-46be-8bdf-71a702cf05b2",
   "metadata": {},
   "outputs": [],
   "source": [
    "# Define a mapping dictionary\n",
    "watched_map = {\n",
    "    'y': 'Yes',\n",
    "    'yes': 'Yes',\n",
    "    'true': 'Yes',\n",
    "    'n': 'No',\n",
    "    'no': 'No',\n",
    "    'false': 'No'\n",
    "}\n",
    "\n",
    "# Apply the map to standardize values\n",
    "df['watched'] = df['watched'].map(watched_map)"
   ]
  },
  {
   "cell_type": "code",
   "execution_count": 34,
   "id": "6e73ae44-82af-4a8a-b420-5aeee82bcb31",
   "metadata": {},
   "outputs": [
    {
     "data": {
      "text/html": [
       "<div>\n",
       "<style scoped>\n",
       "    .dataframe tbody tr th:only-of-type {\n",
       "        vertical-align: middle;\n",
       "    }\n",
       "\n",
       "    .dataframe tbody tr th {\n",
       "        vertical-align: top;\n",
       "    }\n",
       "\n",
       "    .dataframe thead th {\n",
       "        text-align: right;\n",
       "    }\n",
       "</style>\n",
       "<table border=\"1\" class=\"dataframe\">\n",
       "  <thead>\n",
       "    <tr style=\"text-align: right;\">\n",
       "      <th></th>\n",
       "      <th>movie_title</th>\n",
       "      <th>genre</th>\n",
       "      <th>release_year</th>\n",
       "      <th>user_rating</th>\n",
       "      <th>reviewer_id</th>\n",
       "      <th>watched</th>\n",
       "      <th>movie_id</th>\n",
       "    </tr>\n",
       "  </thead>\n",
       "  <tbody>\n",
       "    <tr>\n",
       "      <th>0</th>\n",
       "      <td>Star Wars</td>\n",
       "      <td>Sci-Fi</td>\n",
       "      <td>1977</td>\n",
       "      <td>6</td>\n",
       "      <td>1001</td>\n",
       "      <td>Yes</td>\n",
       "      <td>Star Wars_1001</td>\n",
       "    </tr>\n",
       "    <tr>\n",
       "      <th>1</th>\n",
       "      <td>Inception</td>\n",
       "      <td>Sci-Fi</td>\n",
       "      <td>2010</td>\n",
       "      <td>4</td>\n",
       "      <td>1002</td>\n",
       "      <td>No</td>\n",
       "      <td>Inception_1002</td>\n",
       "    </tr>\n",
       "    <tr>\n",
       "      <th>2</th>\n",
       "      <td>Inception</td>\n",
       "      <td>Sci-Fi</td>\n",
       "      <td>2010</td>\n",
       "      <td>3</td>\n",
       "      <td>1003</td>\n",
       "      <td>No</td>\n",
       "      <td>Inception_1003</td>\n",
       "    </tr>\n",
       "    <tr>\n",
       "      <th>3</th>\n",
       "      <td>The Matrix</td>\n",
       "      <td>Action</td>\n",
       "      <td>1999</td>\n",
       "      <td>5</td>\n",
       "      <td>1004</td>\n",
       "      <td>Yes</td>\n",
       "      <td>The Matrix_1004</td>\n",
       "    </tr>\n",
       "    <tr>\n",
       "      <th>4</th>\n",
       "      <td>The Godfather</td>\n",
       "      <td>Crime</td>\n",
       "      <td>1972</td>\n",
       "      <td>5</td>\n",
       "      <td>1005</td>\n",
       "      <td>No</td>\n",
       "      <td>The Godfather_1005</td>\n",
       "    </tr>\n",
       "  </tbody>\n",
       "</table>\n",
       "</div>"
      ],
      "text/plain": [
       "     movie_title   genre  release_year  user_rating  reviewer_id watched  \\\n",
       "0      Star Wars  Sci-Fi          1977            6         1001     Yes   \n",
       "1      Inception  Sci-Fi          2010            4         1002      No   \n",
       "2      Inception  Sci-Fi          2010            3         1003      No   \n",
       "3     The Matrix  Action          1999            5         1004     Yes   \n",
       "4  The Godfather   Crime          1972            5         1005      No   \n",
       "\n",
       "             movie_id  \n",
       "0      Star Wars_1001  \n",
       "1      Inception_1002  \n",
       "2      Inception_1003  \n",
       "3     The Matrix_1004  \n",
       "4  The Godfather_1005  "
      ]
     },
     "execution_count": 34,
     "metadata": {},
     "output_type": "execute_result"
    }
   ],
   "source": [
    "# Checking command\n",
    "df.head()"
   ]
  },
  {
   "cell_type": "code",
   "execution_count": 35,
   "id": "96ecb0bf-c017-4685-96b1-39a5ced3fbf9",
   "metadata": {},
   "outputs": [
    {
     "data": {
      "text/plain": [
       "0"
      ]
     },
     "execution_count": 35,
     "metadata": {},
     "output_type": "execute_result"
    }
   ],
   "source": [
    "# A second check, if 0 is return, the data is good, if not needs inspection\n",
    "df['watched'].isnull().sum()"
   ]
  },
  {
   "cell_type": "code",
   "execution_count": 37,
   "id": "7cc7f86b-6abc-4720-87d8-3d299cf38922",
   "metadata": {},
   "outputs": [],
   "source": [
    "# setting the upper and lower limits on the user rating between 1 and 5\n",
    "df['user_rating'] = df['user_rating'].clip(lower=1, upper=5)"
   ]
  },
  {
   "cell_type": "code",
   "execution_count": 40,
   "id": "2119ab10-cd7f-4290-b991-5f330749db9b",
   "metadata": {},
   "outputs": [
    {
     "data": {
      "text/html": [
       "<div>\n",
       "<style scoped>\n",
       "    .dataframe tbody tr th:only-of-type {\n",
       "        vertical-align: middle;\n",
       "    }\n",
       "\n",
       "    .dataframe tbody tr th {\n",
       "        vertical-align: top;\n",
       "    }\n",
       "\n",
       "    .dataframe thead th {\n",
       "        text-align: right;\n",
       "    }\n",
       "</style>\n",
       "<table border=\"1\" class=\"dataframe\">\n",
       "  <thead>\n",
       "    <tr style=\"text-align: right;\">\n",
       "      <th></th>\n",
       "      <th>movie_title</th>\n",
       "      <th>genre</th>\n",
       "      <th>release_year</th>\n",
       "      <th>user_rating</th>\n",
       "      <th>reviewer_id</th>\n",
       "      <th>watched</th>\n",
       "      <th>movie_id</th>\n",
       "    </tr>\n",
       "  </thead>\n",
       "  <tbody>\n",
       "  </tbody>\n",
       "</table>\n",
       "</div>"
      ],
      "text/plain": [
       "Empty DataFrame\n",
       "Columns: [movie_title, genre, release_year, user_rating, reviewer_id, watched, movie_id]\n",
       "Index: []"
      ]
     },
     "execution_count": 40,
     "metadata": {},
     "output_type": "execute_result"
    }
   ],
   "source": [
    "#Verifying the clip worked.  An empty dataset = good\n",
    "df[~df['user_rating'].between(1, 5)]"
   ]
  },
  {
   "cell_type": "code",
   "execution_count": 43,
   "id": "a0ba7599-59cf-4fca-8a6a-bde510d81918",
   "metadata": {},
   "outputs": [],
   "source": [
    "# Changing the year to an integer\n",
    "df['release_year'] = df['release_year'].astype(int)"
   ]
  },
  {
   "cell_type": "code",
   "execution_count": 44,
   "id": "bdd03a00-cecc-4b25-a8ba-18dfb818efec",
   "metadata": {},
   "outputs": [
    {
     "data": {
      "text/plain": [
       "movie_title     object\n",
       "genre           object\n",
       "release_year     int32\n",
       "user_rating      int64\n",
       "reviewer_id      int64\n",
       "watched         object\n",
       "movie_id        object\n",
       "dtype: object"
      ]
     },
     "execution_count": 44,
     "metadata": {},
     "output_type": "execute_result"
    }
   ],
   "source": [
    "# Checking data types to confime\n",
    "df.dtypes"
   ]
  },
  {
   "cell_type": "code",
   "execution_count": 45,
   "id": "42b8c3c6-1289-41db-8edf-1acc7ee87590",
   "metadata": {},
   "outputs": [],
   "source": [
    "# Sending the clean data to my download folder\n",
    "df.to_csv(r'C:\\Users\\tpbra\\Downloads\\movie_ratings_clean.csv', index=False)"
   ]
  },
  {
   "cell_type": "code",
   "execution_count": 1,
   "id": "71ed0d3e-5b97-4ce0-af22-a5ee9f2743fb",
   "metadata": {},
   "outputs": [
    {
     "data": {
      "text/plain": [
       "'C:\\\\Users\\\\tpbra'"
      ]
     },
     "execution_count": 1,
     "metadata": {},
     "output_type": "execute_result"
    }
   ],
   "source": [
    "import os\n",
    "os.getcwd()"
   ]
  },
  {
   "cell_type": "code",
   "execution_count": null,
   "id": "fa31c538-ae53-4a5f-94a6-819dae3383ed",
   "metadata": {},
   "outputs": [],
   "source": []
  }
 ],
 "metadata": {
  "kernelspec": {
   "display_name": "Python 3 (ipykernel)",
   "language": "python",
   "name": "python3"
  },
  "language_info": {
   "codemirror_mode": {
    "name": "ipython",
    "version": 3
   },
   "file_extension": ".py",
   "mimetype": "text/x-python",
   "name": "python",
   "nbconvert_exporter": "python",
   "pygments_lexer": "ipython3",
   "version": "3.12.7"
  }
 },
 "nbformat": 4,
 "nbformat_minor": 5
}
